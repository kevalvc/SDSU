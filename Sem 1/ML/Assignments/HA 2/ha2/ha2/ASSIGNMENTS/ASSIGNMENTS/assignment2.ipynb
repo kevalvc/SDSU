{
 "cells": [
  {
   "cell_type": "markdown",
   "metadata": {},
   "source": [
    "# CS596 Machine Learning \n",
    "# Assignment 2: Linear Regression Model\n",
    "\n",
    "## Overview\n",
    "The task is to build a linear regression model that predicts the GPAs of university students from two features, Math SAT and Verb SAT. \n",
    "- Task 1) Train the model using Normal Equation method.\n",
    "- Task 2) Train the model using Gradient Descent method.\n",
    "- Task 3) Play around with different learning rate $\\alpha$s. \n",
    "\n",
    "## Datasets\n",
    "The file *sat_gpa.csv* contains all training and testing data. It has 105 rows and 3 columns. Each row is the record of a student. The three columns are <u>Math SAT score</u>, <u>Verb SAT score</u>, and <u>University GPA</u>. The first two columns are the features, and the third is the output. All data points are used as the training set.\n",
    "\n",
    "---\n",
    "## Import packages"
   ]
  },
  {
   "cell_type": "code",
   "execution_count": 1,
   "metadata": {},
   "outputs": [],
   "source": [
    "import numpy as np\n",
    "from numpy.linalg import inv # Used for computing the inverse of matrix\n",
    "\n",
    "import matplotlib.pyplot as plt\n",
    "# Use `pip install matplotlib` in command line if matplotlib is not installed"
   ]
  },
  {
   "cell_type": "markdown",
   "metadata": {},
   "source": [
    "---\n",
    "## Load data and preprocessing"
   ]
  },
  {
   "cell_type": "code",
   "execution_count": 2,
   "metadata": {},
   "outputs": [
    {
     "name": "stdout",
     "output_type": "stream",
     "text": [
      "shape of original data: (105, 3)\n",
      "[[0.89554318 0.80464481 0.92388451]\n",
      " [0.77715877 0.69945355 0.76377953]\n",
      " [0.81197772 0.68715847 0.62992126]\n",
      " [0.954039   0.82240437 0.91076115]\n",
      " [0.82451253 0.73497268 0.91076115]\n",
      " [0.78272981 0.66393443 0.62204724]\n",
      " [0.79805014 0.74863388 0.62992126]\n",
      " [0.77855153 0.73224044 0.58792651]\n",
      " [0.76880223 0.79644809 0.79265092]\n",
      " [0.85933148 0.80737705 0.87139108]\n",
      " [0.95264624 0.88661202 0.94225722]\n",
      " [0.79108635 0.80874317 0.66666667]\n",
      " [0.84122563 0.79508197 0.83727034]\n",
      " [0.86211699 0.85245902 0.97375328]\n",
      " [0.89415042 0.84562842 0.93963255]\n",
      " [0.95125348 0.87704918 0.89238845]\n",
      " [0.97910864 0.93442623 0.97900262]\n",
      " [0.99164345 0.89071038 0.9160105 ]\n",
      " [0.78551532 0.68442623 0.59055118]\n",
      " [0.77576602 0.75       0.62204724]\n",
      " [0.82311978 0.79781421 0.86351706]\n",
      " [0.83426184 0.76775956 0.83727034]\n",
      " [0.8454039  0.84562842 0.86089239]\n",
      " [0.86211699 0.76229508 0.88451444]\n",
      " [0.97493036 0.98497268 0.94750656]\n",
      " [1.         1.         1.        ]\n",
      " [0.80779944 0.73497268 0.62992126]\n",
      " [0.78272981 0.69262295 0.58005249]\n",
      " [0.95125348 0.8852459  0.93963255]\n",
      " [0.99860724 0.98907104 0.92125984]\n",
      " [0.97632312 0.97540984 0.95013123]\n",
      " [0.96239554 0.93442623 0.94488189]\n",
      " [0.99442897 0.96448087 0.95800525]\n",
      " [0.95961003 0.91939891 0.98687664]\n",
      " [0.77158774 0.69262295 0.59580052]\n",
      " [0.78551532 0.74180328 0.6167979 ]\n",
      " [0.93036212 0.82513661 0.832021  ]\n",
      " [0.96239554 0.90437158 0.91076115]\n",
      " [0.79805014 0.80737705 0.78740157]\n",
      " [0.79108635 0.70628415 0.7191601 ]\n",
      " [0.8454039  0.85245902 0.88451444]\n",
      " [0.90668524 0.93306011 0.92913386]\n",
      " [0.84122563 0.79644809 0.86089239]\n",
      " [0.77994429 0.74043716 0.88976378]\n",
      " [0.84122563 0.84289617 0.86089239]\n",
      " [0.7994429  0.74863388 0.83727034]\n",
      " [0.78551532 0.68306011 0.66141732]\n",
      " [0.8454039  0.72131148 0.80839895]\n",
      " [0.86211699 0.78278689 0.79002625]\n",
      " [0.90111421 0.83060109 0.8976378 ]\n",
      " [0.90668524 0.93306011 0.94488189]\n",
      " [0.79526462 0.74180328 0.62992126]\n",
      " [0.81197772 0.69672131 0.74278215]\n",
      " [0.77158774 0.73497268 0.62467192]\n",
      " [0.79108635 0.70901639 0.84251969]\n",
      " [0.7994429  0.82240437 0.58792651]\n",
      " [0.84261838 0.84562842 0.89238845]\n",
      " [0.82311978 0.79781421 0.80577428]\n",
      " [0.89415042 0.83060109 0.92388451]\n",
      " [0.84679666 0.78278689 0.91076115]\n",
      " [0.7994429  0.73497268 0.80839895]\n",
      " [0.89554318 0.82923497 0.88713911]\n",
      " [0.84679666 0.88661202 0.89501312]\n",
      " [0.98746518 0.93989071 0.95538058]\n",
      " [0.96239554 0.88114754 0.97375328]\n",
      " [0.92896936 0.79644809 0.79002625]\n",
      " [0.91364903 0.83196721 0.88451444]\n",
      " [0.77158774 0.74043716 0.61417323]\n",
      " [0.9637883  0.76912568 0.86351706]\n",
      " [0.95264624 0.91803279 0.89238845]\n",
      " [0.99860724 0.88661202 0.88713911]\n",
      " [0.99164345 0.96721311 0.86089239]\n",
      " [0.89275766 0.83060109 0.8687664 ]\n",
      " [0.94011142 0.86338798 0.8976378 ]\n",
      " [0.9637883  0.95355191 0.88976378]\n",
      " [0.95264624 0.83196721 0.92125984]\n",
      " [0.78551532 0.80737705 0.832021  ]\n",
      " [0.77158774 0.69535519 0.83989501]\n",
      " [0.954039   0.94808743 0.89501312]\n",
      " [0.93454039 0.83196721 0.86351706]\n",
      " [0.79526462 0.68715847 0.832021  ]\n",
      " [0.81058496 0.80737705 0.81889764]\n",
      " [0.86490251 0.80464481 0.97375328]\n",
      " [0.90668524 0.87704918 0.91863517]\n",
      " [0.93732591 0.93032787 0.87664042]\n",
      " [0.90668524 0.87431694 0.91338583]\n",
      " [0.93593315 0.82923497 0.90288714]\n",
      " [0.82311978 0.80191257 0.94225722]\n",
      " [0.81058496 0.83606557 0.86089239]\n",
      " [0.84818942 0.75819672 0.78740157]\n",
      " [0.77158774 0.6557377  0.8976378 ]\n",
      " [0.85236769 0.80601093 0.89501312]\n",
      " [0.87465181 0.79234973 0.9160105 ]\n",
      " [0.78969359 0.82240437 0.86089239]\n",
      " [0.86211699 0.8510929  0.832021  ]\n",
      " [0.96239554 0.93306011 0.8503937 ]\n",
      " [0.78551532 0.75       0.61417323]\n",
      " [0.90529248 0.93442623 0.86089239]\n",
      " [0.76740947 0.7568306  0.60104987]\n",
      " [0.79108635 0.73907104 0.54593176]\n",
      " [0.84261838 0.80601093 0.95538058]\n",
      " [0.9637883  0.93306011 0.8976378 ]\n",
      " [0.94707521 0.94535519 0.85301837]\n",
      " [0.85933148 0.68715847 0.72440945]\n",
      " [0.71866295 0.72131148 0.89501312]]\n"
     ]
    }
   ],
   "source": [
    "# Load data \n",
    "data = np.loadtxt(open('sat_gpa.csv'), delimiter=',')\n",
    "print('shape of original data:', data.shape) # Check if data is 105 by 3\n",
    "\n",
    "# Normalize data\n",
    "data_norm = data / data.max(axis=0)\n",
    "print(data_norm)"
   ]
  },
  {
   "cell_type": "markdown",
   "metadata": {},
   "source": [
    "---\n",
    "## Task 1\n",
    "**3 points**\n",
    "\n",
    "Implement the Normal Equation method for linear regression: $\\theta = (X^T X)^{-1}X^T y$\n",
    "\n",
    "Use the learned $\\theta$ to make predictions: $\\hat{y} = X\\theta$\n",
    "\n",
    "Compute the residual sum of squares of the model: $RSS = \\sum_i (\\hat{y}^{(i)} - y^{(i)})^2$"
   ]
  },
  {
   "cell_type": "code",
   "execution_count": 3,
   "metadata": {},
   "outputs": [
    {
     "name": "stdout",
     "output_type": "stream",
     "text": [
      "X shape = (105, 3)\n",
      "X Transporse shape = (3, 105)\n",
      "Y shape = (105,)\n",
      "Theta obtained from normal equation: [-0.06234478  0.62017319  0.43647674]\n",
      "Residual sum of squares (RSS):  0.7590471383029536\n"
     ]
    }
   ],
   "source": [
    "# Create matrix X and y\n",
    "# X has three columns: \n",
    "#   - The first column contain all 1s, which is for the intercept\n",
    "#   - The second and third columns contain features, i.e., the 1st and 2nd columns of data_norm\n",
    "# y has one column, i.e., the 3rd column of data_train\n",
    "\n",
    "X = np.ones_like(data_norm)\n",
    "X[:, 1:3] = data_norm[:,0:2]\n",
    "print(\"X shape =\",X.shape)\n",
    "print(\"X Transporse shape =\",X.transpose().shape)\n",
    "y = data_norm[:,-1]\n",
    "print(\"Y shape =\", y.shape)\n",
    "\n",
    "\n",
    "\n",
    "# Compute theta using normal equation method\n",
    "# Hint: use the inv() function imported from numpy.linalg\n",
    "#### START YOUR CODE ####\n",
    "theta_method1 = np.dot((np.linalg.inv(np.dot(X.T,X))),(np.dot(X.T,y)))\n",
    "#### END YOUR CODE ####\n",
    "\n",
    "\n",
    "# Use the theta obtained to make predictions and compute the residuals\n",
    "# Hint: use numpy.dot() and numpy.sum(), and avoid using for loops\n",
    "#### START YOUR CODE ####\n",
    "y_hat = np.dot(X,theta_method1)\n",
    "RSS1 = np.sum((y_hat-y)**2)\n",
    "#### END YOUR CODE ####\n",
    "\n",
    "# Compute residuals\n",
    "\n",
    "\n",
    "#### DO NOT CHANGE THE CODE BELOW ####\n",
    "print('Theta obtained from normal equation:', theta_method1)\n",
    "print('Residual sum of squares (RSS): ', RSS1)"
   ]
  },
  {
   "cell_type": "markdown",
   "metadata": {},
   "source": [
    "### Expected ouput\n",
    "&nbsp;|&nbsp;\n",
    "--|--\n",
    "Theta obtained from normal equation: | [-0.06234478  0.62017319  0.43647674]\n",
    "Residual sum of squares (RSS): | 0.7590471383029533\n",
    "\n",
    "---\n",
    "\n",
    "## Task 2\n",
    "**6 points**\n",
    "\n",
    "Implement the Gradient Descent method for linear regression.\n",
    "\n",
    "The cost function: $J(\\theta_0, \\theta_1, \\theta_2) = \\frac{1}{2m}\\sum_i (\\hat{y}^{(i)} - y^{(i)})^2 = \\frac{1}{2m}\\sum_i (\\theta_0 + \\theta_1 x_1^{(i)} + \\theta_2 x_2^{(i)} - y^{(i)})^2$\n",
    "\n",
    "Gradients w.r.t. parameters: $\\frac{\\partial J}{\\partial \\theta} = \\begin{cases}\\frac{\\partial J}{\\partial \\theta_0}\\\\ \\frac{\\partial J}{\\partial \\theta_1}\\\\ \\frac{\\partial J}{\\partial \\theta_2}\\\\ \\end{cases} = \\begin{cases}\\frac{1}{m}\\sum_i (\\hat{y}^{(i)} - y^{(i)})\\\\ \\frac{1}{m}\\sum_i (\\hat{y}^{(i)} - y^{(i)})x_1^{(i)}\\\\ \\frac{1}{m}\\sum_i (\\hat{y}^{(i)} - y^{(i)})x_2^{(i)}\\\\\\end{cases}$\n",
    "\n",
    "The formula to update parameters at each iteration: $\\theta := \\theta - \\alpha * \\frac{\\partial J}{\\partial \\theta}$\n",
    "\n",
    "Note that $X$, $y$, and $\\theta$ are all vectors (numpy arrays), and thus the operations above should be implemented in a vectorized fashion. Use `numpy.sum()`, `numpy.dot()` and other vectorized functions, and avoid writing `for` loops in Python."
   ]
  },
  {
   "cell_type": "code",
   "execution_count": 4,
   "metadata": {},
   "outputs": [],
   "source": [
    "# Define the gradientDescent function\n",
    "def gradientDescent(X, y, theta, alpha, num_iters):\n",
    "    '''\n",
    "    Params\n",
    "        X - Shape: (m,3); m is the number of data examples\n",
    "        y - Shape: (m,)\n",
    "        theta - Shape: (3,)\n",
    "        num_iters - Maximum number of iterations\n",
    "    Return\n",
    "        A tuple: (theta, RSS, cost_array)\n",
    "        theta - the learned model parameters\n",
    "        RSS - residual sum of squares\n",
    "        cost_array - stores the cost value of each iteration. Its shape is (num_iters,)\n",
    "    '''\n",
    "    m = len(y)\n",
    "    cost_array =[]\n",
    "\n",
    "    for i in range(0, num_iters):\n",
    "        #### START YOUR CODE ####\n",
    "        # Make predictions\n",
    "        # Shape of y_hat: m by 1\n",
    "        y_hat = np.dot(X,theta)\n",
    "        #print((y_hat))\n",
    "        \n",
    "        # Compute the difference between prediction (y_hat) and ground truth label (y)\n",
    "        diff = y_hat - y\n",
    "        #print(diff)\n",
    "\n",
    "        # Compute the cost\n",
    "        # Hint: Use the diff computed above\n",
    "        cost = np.sum((diff ** 2)/(2 * m))\n",
    "        cost_array.append(cost)\n",
    "\n",
    "        # Compute gradients\n",
    "        # Hint: Use the diff computed above\n",
    "        # Hint: Shape of gradients is the same as theta\n",
    "        gradients = np.dot(np.transpose(X), diff) / m\n",
    "\n",
    "        # Update theta\n",
    "        theta = theta - alpha * gradients\n",
    "        #### END YOUR CODE ####\n",
    "    \n",
    "    # Compute residuals\n",
    "    # Hint: Should use the same code as Task 1\n",
    "    #### START YOUR CODE ####\n",
    "    y_hat = np.dot(X,theta)\n",
    "    RSS = np.sum((y_hat-y)**2)\n",
    "    #### END YOUR CODE ####\n",
    "\n",
    "    return theta, RSS, cost_array"
   ]
  },
  {
   "cell_type": "code",
   "execution_count": 5,
   "metadata": {},
   "outputs": [
    {
     "name": "stdout",
     "output_type": "stream",
     "text": [
      "Theta obtained from gradient descent: [0.29911574 0.32224209 0.31267172]\n",
      "Residual sum of squares (RSS):  0.8641600584370602\n"
     ]
    }
   ],
   "source": [
    "# This cell is to evaluate the gradientDescent function implemented above\n",
    "\n",
    "#### DO NOT CHANGE THE CODE BELOW ####\n",
    "# Define learning rate and maximum iteration number\n",
    "ALPHA = 0.05\n",
    "MAX_ITER = 500\n",
    "\n",
    "# Initialize theta to [0,0,0]\n",
    "theta = np.zeros(3)\n",
    "theta_method2, RSS2, cost_array = gradientDescent(X, y, theta, ALPHA, MAX_ITER)\n",
    "\n",
    "print('Theta obtained from gradient descent:', theta_method2)\n",
    "print('Residual sum of squares (RSS): ', RSS2)"
   ]
  },
  {
   "cell_type": "markdown",
   "metadata": {},
   "source": [
    "### Expected output\n",
    "&nbsp;|&nbsp;\n",
    "--|--\n",
    "Theta obtained from gradient descent: | [0.29911574 0.32224209 0.31267172]\n",
    "Residual sum of squares (RSS): | 0.8641600584370602\n",
    "\n",
    "\n",
    "**NOTE**: It seems that the model trained with gradient descent has larger RSS than the one obtained with normal equation method.\n",
    "\n",
    "---\n",
    "\n",
    "## Task 3\n",
    "**1 point**\n",
    "\n",
    "Plot the cost against iteration number. This is a common method of examining the performance of gradient descent.\n",
    "\n",
    "Try different values of learning rate, for example, $\\alpha=\\{0.01, 0.005, 0.001\\}$, and see how the cost curves change. "
   ]
  },
  {
   "cell_type": "code",
   "execution_count": 7,
   "metadata": {},
   "outputs": [
    {
     "name": "stdout",
     "output_type": "stream",
     "text": [
      "(500,)\n",
      "<class 'list'>\n"
     ]
    },
    {
     "data": {
      "image/png": "[encoded data removed]",
      "text/plain": [
       "<Figure size 432x288 with 1 Axes>"
      ]
     },
     "metadata": {
      "needs_background": "light"
     },
     "output_type": "display_data"
    }
   ],
   "source": [
    "#### START YOUR CODE ####\n",
    "alpha = 0.01\n",
    "#### END YOUR CODE ####\n",
    "\n",
    "print(np.shape(cost_array))\n",
    "\n",
    "print(type(cost_array))\n",
    "\n",
    "theta = np.zeros(3)\n",
    "_, _, cost_array = gradientDescent(X, y, theta, alpha, MAX_ITER)\n",
    "\n",
    "plt.plot(range(0,len(cost_array)), cost_array);\n",
    "plt.xlabel('iteration')\n",
    "plt.ylabel('cost')\n",
    "plt.title('alpha = {}'.format(alpha))\n",
    "plt.show()"
   ]
  },
  {
   "cell_type": "code",
   "execution_count": 7,
   "metadata": {},
   "outputs": [
    {
     "data": {
      "image/png": "[encoded data removed]",
      "text/plain": [
       "<matplotlib.figure.Figure at 0x2205de99c18>"
      ]
     },
     "metadata": {},
     "output_type": "display_data"
    }
   ],
   "source": [
    "#### START YOUR CODE ####\n",
    "alpha = 0.005\n",
    "#### END YOUR CODE ####\n",
    "\n",
    "theta = np.zeros(3)\n",
    "_, _, cost_array = gradientDescent(X, y, theta, alpha, MAX_ITER)\n",
    "\n",
    "plt.plot(range(0,len(cost_array)), cost_array);\n",
    "plt.xlabel('iteration')\n",
    "plt.ylabel('cost')\n",
    "plt.title('alpha = {}'.format(alpha))\n",
    "plt.show()"
   ]
  },
  {
   "cell_type": "code",
   "execution_count": 8,
   "metadata": {},
   "outputs": [
    {
     "data": {
      "image/png": "[encoded data removed]",
      "text/plain": [
       "<matplotlib.figure.Figure at 0x2205c0727f0>"
      ]
     },
     "metadata": {},
     "output_type": "display_data"
    }
   ],
   "source": [
    "#### START YOUR CODE ####\n",
    "alpha = 0.001\n",
    "#### END YOUR CODE ####\n",
    "\n",
    "theta = np.zeros(3)\n",
    "_, _, cost_array = gradientDescent(X, y, theta, alpha, MAX_ITER)\n",
    "\n",
    "plt.plot(range(0,len(cost_array)), cost_array);\n",
    "plt.xlabel('iteration')\n",
    "plt.ylabel('cost')\n",
    "plt.title('alpha = {}'.format(alpha))\n",
    "plt.show()"
   ]
  }
 ],
 "metadata": {
  "kernelspec": {
   "display_name": "Python 3",
   "language": "python",
   "name": "python3"
  },
  "language_info": {
   "codemirror_mode": {
    "name": "ipython",
    "version": 3
   },
   "file_extension": ".py",
   "mimetype": "text/x-python",
   "name": "python",
   "nbconvert_exporter": "python",
   "pygments_lexer": "ipython3",
   "version": "3.7.3"
  }
 },
 "nbformat": 4,
 "nbformat_minor": 2
}
